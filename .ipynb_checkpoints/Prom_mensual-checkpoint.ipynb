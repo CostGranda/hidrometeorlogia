{
 "cells": [
  {
   "cell_type": "markdown",
   "metadata": {},
   "source": [
    "### Librerias"
   ]
  },
  {
   "cell_type": "code",
   "execution_count": 2,
   "metadata": {},
   "outputs": [],
   "source": [
    "from netCDF4 import Dataset\n",
    "import matplotlib.pyplot as plt\n",
    "from datetime import timedelta, datetime"
   ]
  },
  {
   "cell_type": "markdown",
   "metadata": {},
   "source": [
    "### Datos mensuales\n",
    "\n",
    "#### Description:\n",
    "\n",
    "**Longitude:**\n",
    "-179.87500000000°E to 179.87500000000°E (1440 points, avg. res. 0.25°)\n",
    "\n",
    "**Latitude:**\n",
    "-49.87500000000°N to 49.87500000000°N (400 points, avg. res. 0.25°)\n",
    "\n",
    "**Time:**\n",
    "00Z01JAN1998 to 00Z01JUN2017 (234 points, avg. res. 30.433 days)\n",
    "Variables:\n",
    "(total of 3)\n",
    "\n",
    "\n",
    "+ **rr**\n",
    "3b43 hourly rainfall [mm/hour] \n",
    " \n",
    "+ **er**\n",
    "3b43 error of precip [mm/hr] \n",
    " \n",
    "+ **weight**\n",
    "3b43 weight [%] \n"
   ]
  },
  {
   "cell_type": "markdown",
   "metadata": {},
   "source": [
    "----\n",
    "La lat/lon empieza en 0, uno menos del de la tabla de la página.\n",
    "\n",
    "*Longitud*: 77.13W = 1132, 74.63W = 1146, avanzan de a .25\n",
    "\n",
    "*Latitud:* 8.92N = 236, 5,32N  = 222"
   ]
  },
  {
   "cell_type": "code",
   "execution_count": 16,
   "metadata": {},
   "outputs": [],
   "source": [
    "dataset = Dataset('http://apdrc.soest.hawaii.edu:80/dods/public_data/satellite_product/TRMM/TRMM_PR/3B43_monthly/v7')\n",
    "datos = dataset.variables['rr'][228,222:236,1132:1146]"
   ]
  },
  {
   "cell_type": "code",
   "execution_count": 20,
   "metadata": {},
   "outputs": [],
   "source": [
    "prom_ene = []\n",
    "\n",
    "prom_ene.append(datos)\n"
   ]
  }
 ],
 "metadata": {
  "kernelspec": {
   "display_name": "Python 3",
   "language": "python",
   "name": "python3"
  },
  "language_info": {
   "codemirror_mode": {
    "name": "ipython",
    "version": 3
   },
   "file_extension": ".py",
   "mimetype": "text/x-python",
   "name": "python",
   "nbconvert_exporter": "python",
   "pygments_lexer": "ipython3",
   "version": "3.6.2"
  }
 },
 "nbformat": 4,
 "nbformat_minor": 2
}
